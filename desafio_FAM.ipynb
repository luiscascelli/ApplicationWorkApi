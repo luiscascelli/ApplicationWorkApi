{
  "nbformat": 4,
  "nbformat_minor": 0,
  "metadata": {
    "colab": {
      "name": "desafio_FAM.ipynb",
      "provenance": [],
      "collapsed_sections": [],
      "include_colab_link": true
    },
    "kernelspec": {
      "name": "python3",
      "display_name": "Python 3"
    }
  },
  "cells": [
    {
      "cell_type": "markdown",
      "metadata": {
        "id": "view-in-github",
        "colab_type": "text"
      },
      "source": [
        "<a href=\"https://colab.research.google.com/github/luiscascelli/ApplicationWorkApi/blob/master/desafio_FAM.ipynb\" target=\"_parent\"><img src=\"https://colab.research.google.com/assets/colab-badge.svg\" alt=\"Open In Colab\"/></a>"
      ]
    },
    {
      "cell_type": "code",
      "metadata": {
        "id": "EgA8un_263JH"
      },
      "source": [
        "#código para o desafio da disciplina FAM do bootcamp de MLE"
      ],
      "execution_count": null,
      "outputs": []
    },
    {
      "cell_type": "code",
      "metadata": {
        "id": "Ui5_CDE86-3R"
      },
      "source": [
        "import pandas as pd #biblioteca utilizada para trabalhar com dataframes\n",
        "import numpy as np #biblioteca utilizada no tratamento de matrizes e vetores\n",
        "import seaborn as sn #biblioteca utilizada pra plotar os gráficos em um formato mais \"elegante\"\n",
        "import matplotlib.pyplot as plt  #biblioteca utilizada para plotar os gráficos"
      ],
      "execution_count": null,
      "outputs": []
    },
    {
      "cell_type": "code",
      "metadata": {
        "id": "vF0aZnRE7NSP"
      },
      "source": [
        "from google.colab import files  #biblioteca utilizada para carregar os dados para o google colab\n",
        "uploaded = files.upload()"
      ],
      "execution_count": null,
      "outputs": []
    },
    {
      "cell_type": "code",
      "metadata": {
        "id": "FbmpIVYv7UGW",
        "colab": {
          "base_uri": "https://localhost:8080/",
          "height": 531
        },
        "outputId": "282fc87a-2c5f-4912-d0db-9900c62f151a"
      },
      "source": [
        "df_compart_bikes=pd.read_csv('comp_bikes_mod.csv') #carregamento do df \n",
        "df_compart_bikes.head(10)  #exibindo as 10 primeiras linhas do df"
      ],
      "execution_count": null,
      "outputs": [
        {
          "output_type": "execute_result",
          "data": {
            "text/html": [
              "<div>\n",
              "<style scoped>\n",
              "    .dataframe tbody tr th:only-of-type {\n",
              "        vertical-align: middle;\n",
              "    }\n",
              "\n",
              "    .dataframe tbody tr th {\n",
              "        vertical-align: top;\n",
              "    }\n",
              "\n",
              "    .dataframe thead th {\n",
              "        text-align: right;\n",
              "    }\n",
              "</style>\n",
              "<table border=\"1\" class=\"dataframe\">\n",
              "  <thead>\n",
              "    <tr style=\"text-align: right;\">\n",
              "      <th></th>\n",
              "      <th>instant</th>\n",
              "      <th>dteday</th>\n",
              "      <th>season</th>\n",
              "      <th>yr</th>\n",
              "      <th>mnth</th>\n",
              "      <th>hr</th>\n",
              "      <th>holiday</th>\n",
              "      <th>weekday</th>\n",
              "      <th>workingday</th>\n",
              "      <th>weathersit</th>\n",
              "      <th>temp</th>\n",
              "      <th>atemp</th>\n",
              "      <th>hum</th>\n",
              "      <th>windspeed</th>\n",
              "      <th>casual</th>\n",
              "      <th>registered</th>\n",
              "      <th>cnt</th>\n",
              "    </tr>\n",
              "  </thead>\n",
              "  <tbody>\n",
              "    <tr>\n",
              "      <th>0</th>\n",
              "      <td>1.0</td>\n",
              "      <td>NaN</td>\n",
              "      <td>1.0</td>\n",
              "      <td>0.0</td>\n",
              "      <td>1.0</td>\n",
              "      <td>0.0</td>\n",
              "      <td>0.0</td>\n",
              "      <td>6.0</td>\n",
              "      <td>0.0</td>\n",
              "      <td>1.0</td>\n",
              "      <td>NaN</td>\n",
              "      <td>0.2879</td>\n",
              "      <td>0.81</td>\n",
              "      <td>0.0000</td>\n",
              "      <td>3.0</td>\n",
              "      <td>13.0</td>\n",
              "      <td>16.0</td>\n",
              "    </tr>\n",
              "    <tr>\n",
              "      <th>1</th>\n",
              "      <td>2.0</td>\n",
              "      <td>2011-01-01</td>\n",
              "      <td>1.0</td>\n",
              "      <td>0.0</td>\n",
              "      <td>1.0</td>\n",
              "      <td>1.0</td>\n",
              "      <td>0.0</td>\n",
              "      <td>6.0</td>\n",
              "      <td>0.0</td>\n",
              "      <td>NaN</td>\n",
              "      <td>0.22</td>\n",
              "      <td>0.2727</td>\n",
              "      <td>0.80</td>\n",
              "      <td>0.0000</td>\n",
              "      <td>8.0</td>\n",
              "      <td>32.0</td>\n",
              "      <td>40.0</td>\n",
              "    </tr>\n",
              "    <tr>\n",
              "      <th>2</th>\n",
              "      <td>3.0</td>\n",
              "      <td>2011-01-01</td>\n",
              "      <td>1.0</td>\n",
              "      <td>0.0</td>\n",
              "      <td>1.0</td>\n",
              "      <td>2.0</td>\n",
              "      <td>0.0</td>\n",
              "      <td>6.0</td>\n",
              "      <td>0.0</td>\n",
              "      <td>1.0</td>\n",
              "      <td>0.22</td>\n",
              "      <td>0.2727</td>\n",
              "      <td>0.80</td>\n",
              "      <td>0.0000</td>\n",
              "      <td>5.0</td>\n",
              "      <td>27.0</td>\n",
              "      <td>32.0</td>\n",
              "    </tr>\n",
              "    <tr>\n",
              "      <th>3</th>\n",
              "      <td>4.0</td>\n",
              "      <td>2011-01-01</td>\n",
              "      <td>1.0</td>\n",
              "      <td>0.0</td>\n",
              "      <td>1.0</td>\n",
              "      <td>3.0</td>\n",
              "      <td>0.0</td>\n",
              "      <td>6.0</td>\n",
              "      <td>0.0</td>\n",
              "      <td>1.0</td>\n",
              "      <td>0.24</td>\n",
              "      <td>0.2879</td>\n",
              "      <td>0.75</td>\n",
              "      <td>0.0000</td>\n",
              "      <td>3.0</td>\n",
              "      <td>10.0</td>\n",
              "      <td>13.0</td>\n",
              "    </tr>\n",
              "    <tr>\n",
              "      <th>4</th>\n",
              "      <td>5.0</td>\n",
              "      <td>2011-01-01</td>\n",
              "      <td>1.0</td>\n",
              "      <td>0.0</td>\n",
              "      <td>1.0</td>\n",
              "      <td>4.0</td>\n",
              "      <td>0.0</td>\n",
              "      <td>6.0</td>\n",
              "      <td>NaN</td>\n",
              "      <td>1.0</td>\n",
              "      <td>0.24</td>\n",
              "      <td>0.2879</td>\n",
              "      <td>0.75</td>\n",
              "      <td>0.0000</td>\n",
              "      <td>0.0</td>\n",
              "      <td>1.0</td>\n",
              "      <td>1.0</td>\n",
              "    </tr>\n",
              "    <tr>\n",
              "      <th>5</th>\n",
              "      <td>6.0</td>\n",
              "      <td>2011-01-01</td>\n",
              "      <td>1.0</td>\n",
              "      <td>0.0</td>\n",
              "      <td>1.0</td>\n",
              "      <td>5.0</td>\n",
              "      <td>0.0</td>\n",
              "      <td>6.0</td>\n",
              "      <td>0.0</td>\n",
              "      <td>2.0</td>\n",
              "      <td>0.24</td>\n",
              "      <td>0.2576</td>\n",
              "      <td>0.75</td>\n",
              "      <td>0.0896</td>\n",
              "      <td>0.0</td>\n",
              "      <td>1.0</td>\n",
              "      <td>1.0</td>\n",
              "    </tr>\n",
              "    <tr>\n",
              "      <th>6</th>\n",
              "      <td>7.0</td>\n",
              "      <td>2011-01-01</td>\n",
              "      <td>1.0</td>\n",
              "      <td>0.0</td>\n",
              "      <td>1.0</td>\n",
              "      <td>NaN</td>\n",
              "      <td>0.0</td>\n",
              "      <td>6.0</td>\n",
              "      <td>0.0</td>\n",
              "      <td>1.0</td>\n",
              "      <td>0.22</td>\n",
              "      <td>0.2727</td>\n",
              "      <td>NaN</td>\n",
              "      <td>NaN</td>\n",
              "      <td>2.0</td>\n",
              "      <td>0.0</td>\n",
              "      <td>2.0</td>\n",
              "    </tr>\n",
              "    <tr>\n",
              "      <th>7</th>\n",
              "      <td>8.0</td>\n",
              "      <td>2011-01-01</td>\n",
              "      <td>1.0</td>\n",
              "      <td>0.0</td>\n",
              "      <td>1.0</td>\n",
              "      <td>7.0</td>\n",
              "      <td>0.0</td>\n",
              "      <td>6.0</td>\n",
              "      <td>0.0</td>\n",
              "      <td>NaN</td>\n",
              "      <td>0.20</td>\n",
              "      <td>0.2576</td>\n",
              "      <td>0.86</td>\n",
              "      <td>0.0000</td>\n",
              "      <td>NaN</td>\n",
              "      <td>2.0</td>\n",
              "      <td>3.0</td>\n",
              "    </tr>\n",
              "    <tr>\n",
              "      <th>8</th>\n",
              "      <td>9.0</td>\n",
              "      <td>2011-01-01</td>\n",
              "      <td>1.0</td>\n",
              "      <td>0.0</td>\n",
              "      <td>1.0</td>\n",
              "      <td>8.0</td>\n",
              "      <td>0.0</td>\n",
              "      <td>NaN</td>\n",
              "      <td>0.0</td>\n",
              "      <td>NaN</td>\n",
              "      <td>0.24</td>\n",
              "      <td>0.2879</td>\n",
              "      <td>0.75</td>\n",
              "      <td>0.0000</td>\n",
              "      <td>1.0</td>\n",
              "      <td>7.0</td>\n",
              "      <td>8.0</td>\n",
              "    </tr>\n",
              "    <tr>\n",
              "      <th>9</th>\n",
              "      <td>10.0</td>\n",
              "      <td>2011-01-01</td>\n",
              "      <td>1.0</td>\n",
              "      <td>0.0</td>\n",
              "      <td>NaN</td>\n",
              "      <td>9.0</td>\n",
              "      <td>0.0</td>\n",
              "      <td>6.0</td>\n",
              "      <td>0.0</td>\n",
              "      <td>1.0</td>\n",
              "      <td>NaN</td>\n",
              "      <td>0.3485</td>\n",
              "      <td>0.76</td>\n",
              "      <td>0.0000</td>\n",
              "      <td>8.0</td>\n",
              "      <td>6.0</td>\n",
              "      <td>14.0</td>\n",
              "    </tr>\n",
              "  </tbody>\n",
              "</table>\n",
              "</div>"
            ],
            "text/plain": [
              "   instant      dteday  season   yr  ...  windspeed  casual  registered   cnt\n",
              "0      1.0         NaN     1.0  0.0  ...     0.0000     3.0        13.0  16.0\n",
              "1      2.0  2011-01-01     1.0  0.0  ...     0.0000     8.0        32.0  40.0\n",
              "2      3.0  2011-01-01     1.0  0.0  ...     0.0000     5.0        27.0  32.0\n",
              "3      4.0  2011-01-01     1.0  0.0  ...     0.0000     3.0        10.0  13.0\n",
              "4      5.0  2011-01-01     1.0  0.0  ...     0.0000     0.0         1.0   1.0\n",
              "5      6.0  2011-01-01     1.0  0.0  ...     0.0896     0.0         1.0   1.0\n",
              "6      7.0  2011-01-01     1.0  0.0  ...        NaN     2.0         0.0   2.0\n",
              "7      8.0  2011-01-01     1.0  0.0  ...     0.0000     NaN         2.0   3.0\n",
              "8      9.0  2011-01-01     1.0  0.0  ...     0.0000     1.0         7.0   8.0\n",
              "9     10.0  2011-01-01     1.0  0.0  ...     0.0000     8.0         6.0  14.0\n",
              "\n",
              "[10 rows x 17 columns]"
            ]
          },
          "metadata": {
            "tags": []
          },
          "execution_count": 4
        }
      ]
    },
    {
      "cell_type": "markdown",
      "metadata": {
        "id": "-9PUyaXz8K2D"
      },
      "source": [
        "- instant: identificador da leitura\n",
        "- dteday : data\n",
        "- season : estação (1:inverno, 2:primavera, 3:verão, 4:outono)\n",
        "- yr : ano (0: 2011, 1:2012)\n",
        "- mnth : mês ( 1 to 12)\n",
        "- hr : hora (0 to 23)\n",
        "- holiday : identificador para feriado \n",
        "- weekday : dia da semana\n",
        "- workingday : 1 se é dia de semana e 0 caso contrário.\n",
        "+ condições do tempo :\n",
        "- 1: Ensolarado\n",
        "- 2: Misto entre nuvens e ensolarado\n",
        "- 3: Nevando ou com chuva fraca\n",
        "- 4: Tempestade\n",
        "- temp : temperatura em graus Celsius (medida) - normalizada\n",
        "- atemp: sensação térmica - normalizada\n",
        "- hum: umidade\n",
        "- windspeed: velocidade do vento\n",
        "- casual: número de usuários casuais\n",
        "- registered: número de usuários registrados\n",
        "- cnt: total de bikes alugadas\n",
        "\n"
      ]
    },
    {
      "cell_type": "code",
      "metadata": {
        "id": "DLPTq3mM8GKI",
        "colab": {
          "base_uri": "https://localhost:8080/",
          "height": 35
        },
        "outputId": "2d05052b-8955-4301-d724-777c1094f88b"
      },
      "source": [
        "print('Dimensão do dataframe: {}'.format(df_compart_bikes.shape))"
      ],
      "execution_count": null,
      "outputs": [
        {
          "output_type": "stream",
          "text": [
            "Dimensão do dataframe: (17379, 17)\n"
          ],
          "name": "stdout"
        }
      ]
    },
    {
      "cell_type": "code",
      "metadata": {
        "id": "swPKuKUDxBxN",
        "colab": {
          "base_uri": "https://localhost:8080/",
          "height": 433
        },
        "outputId": "93db2327-81b2-45a2-81d5-d7045bc267ce"
      },
      "source": [
        "df_compart_bikes.info() #mostra as características do dataset"
      ],
      "execution_count": null,
      "outputs": [
        {
          "output_type": "stream",
          "text": [
            "<class 'pandas.core.frame.DataFrame'>\n",
            "RangeIndex: 17379 entries, 0 to 17378\n",
            "Data columns (total 17 columns):\n",
            " #   Column      Non-Null Count  Dtype  \n",
            "---  ------      --------------  -----  \n",
            " 0   instant     15641 non-null  float64\n",
            " 1   dteday      15641 non-null  object \n",
            " 2   season      15641 non-null  float64\n",
            " 3   yr          15641 non-null  float64\n",
            " 4   mnth        15641 non-null  float64\n",
            " 5   hr          15641 non-null  float64\n",
            " 6   holiday     15641 non-null  float64\n",
            " 7   weekday     15641 non-null  float64\n",
            " 8   workingday  15641 non-null  float64\n",
            " 9   weathersit  15641 non-null  float64\n",
            " 10  temp        15641 non-null  float64\n",
            " 11  atemp       15641 non-null  float64\n",
            " 12  hum         15641 non-null  float64\n",
            " 13  windspeed   15641 non-null  float64\n",
            " 14  casual      15641 non-null  float64\n",
            " 15  registered  15641 non-null  float64\n",
            " 16  cnt         15641 non-null  float64\n",
            "dtypes: float64(16), object(1)\n",
            "memory usage: 2.3+ MB\n"
          ],
          "name": "stdout"
        }
      ]
    },
    {
      "cell_type": "code",
      "metadata": {
        "id": "3VC_PUbe-6p0",
        "colab": {
          "base_uri": "https://localhost:8080/",
          "height": 87
        },
        "outputId": "f62286b7-40c6-444a-c6cf-355af849832b"
      },
      "source": [
        "print(\"Tipos de dados existentes do dataset: \\n{}\".format(df_compart_bikes.dtypes.value_counts()))"
      ],
      "execution_count": null,
      "outputs": [
        {
          "output_type": "stream",
          "text": [
            "Tipos de dados existentes do dataset: \n",
            "float64    16\n",
            "object      1\n",
            "dtype: int64\n"
          ],
          "name": "stdout"
        }
      ]
    },
    {
      "cell_type": "code",
      "metadata": {
        "id": "D1WcyR-ev1AY",
        "colab": {
          "base_uri": "https://localhost:8080/",
          "height": 35
        },
        "outputId": "2b4374dc-b51c-4f73-b69f-7d1e30a97305"
      },
      "source": [
        "print(\"Tipos de dados existentes do dataset: {}\".format(df_compart_bikes.dtypes.nunique()))"
      ],
      "execution_count": null,
      "outputs": [
        {
          "output_type": "stream",
          "text": [
            "Tipos de dados existentes do dataset: 2\n"
          ],
          "name": "stdout"
        }
      ]
    },
    {
      "cell_type": "code",
      "metadata": {
        "id": "MR8q_GQr1uxL",
        "colab": {
          "base_uri": "https://localhost:8080/",
          "height": 35
        },
        "outputId": "88391ff6-647c-4e6b-d927-aa8fd8897d13"
      },
      "source": [
        "print(\"Proporção de valores nulos para variável 'temp': {}% \".format((len(df_compart_bikes['temp'])/df_compart_bikes.isnull().sum()[\"temp\"])))"
      ],
      "execution_count": null,
      "outputs": [
        {
          "output_type": "stream",
          "text": [
            "Proporção de valores nulos para variável 'temp': 9.999424626006904% \n"
          ],
          "name": "stdout"
        }
      ]
    },
    {
      "cell_type": "code",
      "metadata": {
        "id": "64l12o8q4NR9",
        "colab": {
          "base_uri": "https://localhost:8080/",
          "height": 35
        },
        "outputId": "b8b8cf6c-1c18-4e85-aa04-e6aa31b2c710"
      },
      "source": [
        "len(df_compart_bikes['temp'])/df_compart_bikes.isnull().sum()[\"temp\"]"
      ],
      "execution_count": null,
      "outputs": [
        {
          "output_type": "execute_result",
          "data": {
            "text/plain": [
              "9.999424626006904"
            ]
          },
          "metadata": {
            "tags": []
          },
          "execution_count": 11
        }
      ]
    },
    {
      "cell_type": "code",
      "metadata": {
        "id": "wz2nIAdEEdgZ",
        "colab": {
          "base_uri": "https://localhost:8080/",
          "height": 329
        },
        "outputId": "612c9a3c-7eb4-4c84-9795-cd6d0902b736"
      },
      "source": [
        "df_compart_bikes.isnull().sum()"
      ],
      "execution_count": null,
      "outputs": [
        {
          "output_type": "execute_result",
          "data": {
            "text/plain": [
              "instant       1738\n",
              "dteday        1738\n",
              "season        1738\n",
              "yr            1738\n",
              "mnth          1738\n",
              "hr            1738\n",
              "holiday       1738\n",
              "weekday       1738\n",
              "workingday    1738\n",
              "weathersit    1738\n",
              "temp          1738\n",
              "atemp         1738\n",
              "hum           1738\n",
              "windspeed     1738\n",
              "casual        1738\n",
              "registered    1738\n",
              "cnt           1738\n",
              "dtype: int64"
            ]
          },
          "metadata": {
            "tags": []
          },
          "execution_count": 12
        }
      ]
    },
    {
      "cell_type": "code",
      "metadata": {
        "id": "8HK_R7SHNAbd"
      },
      "source": [
        "dir(pd)"
      ],
      "execution_count": null,
      "outputs": []
    },
    {
      "cell_type": "code",
      "metadata": {
        "id": "S-wYj4OF4cY0"
      },
      "source": [
        "#retirando as linhas que contém a data como nula\n",
        "#df_compart_bikes=df_compart_bikes.dropna(subset=['dteday'])\n",
        "df_compart_bikes.dropna(subset=['dteday'],inplace=True)"
      ],
      "execution_count": null,
      "outputs": []
    },
    {
      "cell_type": "code",
      "metadata": {
        "id": "g8DY98bLFXnN",
        "colab": {
          "base_uri": "https://localhost:8080/",
          "height": 433
        },
        "outputId": "d191ee53-f4a4-4eda-973b-d5d45d067569"
      },
      "source": [
        "df_compart_bikes.info()"
      ],
      "execution_count": null,
      "outputs": [
        {
          "output_type": "stream",
          "text": [
            "<class 'pandas.core.frame.DataFrame'>\n",
            "Int64Index: 15641 entries, 1 to 17378\n",
            "Data columns (total 17 columns):\n",
            " #   Column      Non-Null Count  Dtype  \n",
            "---  ------      --------------  -----  \n",
            " 0   instant     14060 non-null  float64\n",
            " 1   dteday      15641 non-null  object \n",
            " 2   season      14061 non-null  float64\n",
            " 3   yr          14076 non-null  float64\n",
            " 4   mnth        14062 non-null  float64\n",
            " 5   hr          14068 non-null  float64\n",
            " 6   holiday     14076 non-null  float64\n",
            " 7   weekday     14078 non-null  float64\n",
            " 8   workingday  14097 non-null  float64\n",
            " 9   weathersit  14078 non-null  float64\n",
            " 10  temp        14066 non-null  float64\n",
            " 11  atemp       14076 non-null  float64\n",
            " 12  hum         14070 non-null  float64\n",
            " 13  windspeed   14082 non-null  float64\n",
            " 14  casual      14071 non-null  float64\n",
            " 15  registered  14090 non-null  float64\n",
            " 16  cnt         14079 non-null  float64\n",
            "dtypes: float64(16), object(1)\n",
            "memory usage: 2.1+ MB\n"
          ],
          "name": "stdout"
        }
      ]
    },
    {
      "cell_type": "code",
      "metadata": {
        "id": "ECtMdNdy47mO",
        "colab": {
          "base_uri": "https://localhost:8080/",
          "height": 35
        },
        "outputId": "45ff0e90-93c7-4ff4-e093-9db7f6990d1c"
      },
      "source": [
        "n_instancias, n_atributos=df_compart_bikes.shape  #verificando a quantidade de instancias e atributos\n",
        "print(\"Número de Instancias e Atributos ({},{})\".format(n_instancias,n_atributos))"
      ],
      "execution_count": null,
      "outputs": [
        {
          "output_type": "stream",
          "text": [
            "Número de Instancias e Atributos (15641,17)\n"
          ],
          "name": "stdout"
        }
      ]
    },
    {
      "cell_type": "code",
      "metadata": {
        "id": "pqRwPhb96gnS",
        "colab": {
          "base_uri": "https://localhost:8080/",
          "height": 314
        },
        "outputId": "efc82201-1cf5-48f4-e195-904a0587a17e"
      },
      "source": [
        "#encontrando a descrição \"estatística\" para as variáveis\n",
        "df_compart_bikes.describe()"
      ],
      "execution_count": null,
      "outputs": [
        {
          "output_type": "execute_result",
          "data": {
            "text/html": [
              "<div>\n",
              "<style scoped>\n",
              "    .dataframe tbody tr th:only-of-type {\n",
              "        vertical-align: middle;\n",
              "    }\n",
              "\n",
              "    .dataframe tbody tr th {\n",
              "        vertical-align: top;\n",
              "    }\n",
              "\n",
              "    .dataframe thead th {\n",
              "        text-align: right;\n",
              "    }\n",
              "</style>\n",
              "<table border=\"1\" class=\"dataframe\">\n",
              "  <thead>\n",
              "    <tr style=\"text-align: right;\">\n",
              "      <th></th>\n",
              "      <th>instant</th>\n",
              "      <th>season</th>\n",
              "      <th>yr</th>\n",
              "      <th>mnth</th>\n",
              "      <th>hr</th>\n",
              "      <th>holiday</th>\n",
              "      <th>weekday</th>\n",
              "      <th>workingday</th>\n",
              "      <th>weathersit</th>\n",
              "      <th>temp</th>\n",
              "      <th>atemp</th>\n",
              "      <th>hum</th>\n",
              "      <th>windspeed</th>\n",
              "      <th>casual</th>\n",
              "      <th>registered</th>\n",
              "      <th>cnt</th>\n",
              "    </tr>\n",
              "  </thead>\n",
              "  <tbody>\n",
              "    <tr>\n",
              "      <th>count</th>\n",
              "      <td>14060.000000</td>\n",
              "      <td>14061.000000</td>\n",
              "      <td>14076.000000</td>\n",
              "      <td>14062.000000</td>\n",
              "      <td>14068.000000</td>\n",
              "      <td>14076.000000</td>\n",
              "      <td>14078.000000</td>\n",
              "      <td>14097.000000</td>\n",
              "      <td>14078.000000</td>\n",
              "      <td>14066.000000</td>\n",
              "      <td>14076.000000</td>\n",
              "      <td>14070.000000</td>\n",
              "      <td>14082.000000</td>\n",
              "      <td>14071.000000</td>\n",
              "      <td>14090.000000</td>\n",
              "      <td>14079.000000</td>\n",
              "    </tr>\n",
              "    <tr>\n",
              "      <th>mean</th>\n",
              "      <td>8679.717496</td>\n",
              "      <td>2.507930</td>\n",
              "      <td>0.501563</td>\n",
              "      <td>6.542810</td>\n",
              "      <td>11.486779</td>\n",
              "      <td>0.027707</td>\n",
              "      <td>3.006535</td>\n",
              "      <td>0.683053</td>\n",
              "      <td>1.422432</td>\n",
              "      <td>0.496926</td>\n",
              "      <td>0.476055</td>\n",
              "      <td>0.627357</td>\n",
              "      <td>0.189552</td>\n",
              "      <td>35.416317</td>\n",
              "      <td>153.280625</td>\n",
              "      <td>189.165850</td>\n",
              "    </tr>\n",
              "    <tr>\n",
              "      <th>std</th>\n",
              "      <td>5015.960092</td>\n",
              "      <td>1.110674</td>\n",
              "      <td>0.500015</td>\n",
              "      <td>3.443693</td>\n",
              "      <td>6.915101</td>\n",
              "      <td>0.164137</td>\n",
              "      <td>2.002829</td>\n",
              "      <td>0.465303</td>\n",
              "      <td>0.638937</td>\n",
              "      <td>0.192971</td>\n",
              "      <td>0.172827</td>\n",
              "      <td>0.192863</td>\n",
              "      <td>0.122309</td>\n",
              "      <td>48.770799</td>\n",
              "      <td>151.317869</td>\n",
              "      <td>181.223589</td>\n",
              "    </tr>\n",
              "    <tr>\n",
              "      <th>min</th>\n",
              "      <td>2.000000</td>\n",
              "      <td>1.000000</td>\n",
              "      <td>0.000000</td>\n",
              "      <td>1.000000</td>\n",
              "      <td>0.000000</td>\n",
              "      <td>0.000000</td>\n",
              "      <td>0.000000</td>\n",
              "      <td>0.000000</td>\n",
              "      <td>1.000000</td>\n",
              "      <td>0.020000</td>\n",
              "      <td>0.000000</td>\n",
              "      <td>0.000000</td>\n",
              "      <td>0.000000</td>\n",
              "      <td>0.000000</td>\n",
              "      <td>0.000000</td>\n",
              "      <td>1.000000</td>\n",
              "    </tr>\n",
              "    <tr>\n",
              "      <th>25%</th>\n",
              "      <td>4336.250000</td>\n",
              "      <td>2.000000</td>\n",
              "      <td>0.000000</td>\n",
              "      <td>4.000000</td>\n",
              "      <td>6.000000</td>\n",
              "      <td>0.000000</td>\n",
              "      <td>1.000000</td>\n",
              "      <td>0.000000</td>\n",
              "      <td>1.000000</td>\n",
              "      <td>0.340000</td>\n",
              "      <td>0.333300</td>\n",
              "      <td>0.480000</td>\n",
              "      <td>0.104500</td>\n",
              "      <td>4.000000</td>\n",
              "      <td>34.000000</td>\n",
              "      <td>40.000000</td>\n",
              "    </tr>\n",
              "    <tr>\n",
              "      <th>50%</th>\n",
              "      <td>8677.500000</td>\n",
              "      <td>3.000000</td>\n",
              "      <td>1.000000</td>\n",
              "      <td>7.000000</td>\n",
              "      <td>11.000000</td>\n",
              "      <td>0.000000</td>\n",
              "      <td>3.000000</td>\n",
              "      <td>1.000000</td>\n",
              "      <td>1.000000</td>\n",
              "      <td>0.500000</td>\n",
              "      <td>0.484800</td>\n",
              "      <td>0.630000</td>\n",
              "      <td>0.164200</td>\n",
              "      <td>17.000000</td>\n",
              "      <td>115.000000</td>\n",
              "      <td>142.000000</td>\n",
              "    </tr>\n",
              "    <tr>\n",
              "      <th>75%</th>\n",
              "      <td>13024.250000</td>\n",
              "      <td>3.000000</td>\n",
              "      <td>1.000000</td>\n",
              "      <td>10.000000</td>\n",
              "      <td>17.000000</td>\n",
              "      <td>0.000000</td>\n",
              "      <td>5.000000</td>\n",
              "      <td>1.000000</td>\n",
              "      <td>2.000000</td>\n",
              "      <td>0.660000</td>\n",
              "      <td>0.621200</td>\n",
              "      <td>0.780000</td>\n",
              "      <td>0.253700</td>\n",
              "      <td>48.000000</td>\n",
              "      <td>219.000000</td>\n",
              "      <td>280.000000</td>\n",
              "    </tr>\n",
              "    <tr>\n",
              "      <th>max</th>\n",
              "      <td>17376.000000</td>\n",
              "      <td>4.000000</td>\n",
              "      <td>1.000000</td>\n",
              "      <td>12.000000</td>\n",
              "      <td>23.000000</td>\n",
              "      <td>1.000000</td>\n",
              "      <td>6.000000</td>\n",
              "      <td>1.000000</td>\n",
              "      <td>4.000000</td>\n",
              "      <td>1.000000</td>\n",
              "      <td>1.000000</td>\n",
              "      <td>1.000000</td>\n",
              "      <td>0.850700</td>\n",
              "      <td>367.000000</td>\n",
              "      <td>886.000000</td>\n",
              "      <td>977.000000</td>\n",
              "    </tr>\n",
              "  </tbody>\n",
              "</table>\n",
              "</div>"
            ],
            "text/plain": [
              "            instant        season  ...    registered           cnt\n",
              "count  14060.000000  14061.000000  ...  14090.000000  14079.000000\n",
              "mean    8679.717496      2.507930  ...    153.280625    189.165850\n",
              "std     5015.960092      1.110674  ...    151.317869    181.223589\n",
              "min        2.000000      1.000000  ...      0.000000      1.000000\n",
              "25%     4336.250000      2.000000  ...     34.000000     40.000000\n",
              "50%     8677.500000      3.000000  ...    115.000000    142.000000\n",
              "75%    13024.250000      3.000000  ...    219.000000    280.000000\n",
              "max    17376.000000      4.000000  ...    886.000000    977.000000\n",
              "\n",
              "[8 rows x 16 columns]"
            ]
          },
          "metadata": {
            "tags": []
          },
          "execution_count": 17
        }
      ]
    },
    {
      "cell_type": "code",
      "metadata": {
        "id": "g1xBaidZ-UYN"
      },
      "source": [
        "df_compart_bikes['season']=df_compart_bikes['season'].astype('category')  #transformando a coluna season (estações) em categóricos"
      ],
      "execution_count": null,
      "outputs": []
    },
    {
      "cell_type": "code",
      "metadata": {
        "id": "6nnLK9ep-ilr",
        "colab": {
          "base_uri": "https://localhost:8080/",
          "height": 433
        },
        "outputId": "b62e4396-d099-4dda-8899-6789ad8cc0c6"
      },
      "source": [
        "df_compart_bikes.info() #verificando as colunas"
      ],
      "execution_count": null,
      "outputs": [
        {
          "output_type": "stream",
          "text": [
            "<class 'pandas.core.frame.DataFrame'>\n",
            "Int64Index: 15641 entries, 1 to 17378\n",
            "Data columns (total 17 columns):\n",
            " #   Column      Non-Null Count  Dtype   \n",
            "---  ------      --------------  -----   \n",
            " 0   instant     14060 non-null  float64 \n",
            " 1   dteday      15641 non-null  object  \n",
            " 2   season      14061 non-null  category\n",
            " 3   yr          14076 non-null  float64 \n",
            " 4   mnth        14062 non-null  float64 \n",
            " 5   hr          14068 non-null  float64 \n",
            " 6   holiday     14076 non-null  float64 \n",
            " 7   weekday     14078 non-null  float64 \n",
            " 8   workingday  14097 non-null  float64 \n",
            " 9   weathersit  14078 non-null  float64 \n",
            " 10  temp        14066 non-null  float64 \n",
            " 11  atemp       14076 non-null  float64 \n",
            " 12  hum         14070 non-null  float64 \n",
            " 13  windspeed   14082 non-null  float64 \n",
            " 14  casual      14071 non-null  float64 \n",
            " 15  registered  14090 non-null  float64 \n",
            " 16  cnt         14079 non-null  float64 \n",
            "dtypes: category(1), float64(15), object(1)\n",
            "memory usage: 2.0+ MB\n"
          ],
          "name": "stdout"
        }
      ]
    },
    {
      "cell_type": "code",
      "metadata": {
        "id": "cNiL8FBf-nbC",
        "colab": {
          "base_uri": "https://localhost:8080/",
          "height": 35
        },
        "outputId": "6fd3835f-2537-4990-b308-2e2905267b4d"
      },
      "source": [
        "print(\"Existem {} estações diferentes no dataset\".format(df_compart_bikes['season'].nunique()))"
      ],
      "execution_count": null,
      "outputs": [
        {
          "output_type": "stream",
          "text": [
            "Existem 4 estações diferentes no dataset\n"
          ],
          "name": "stdout"
        }
      ]
    },
    {
      "cell_type": "code",
      "metadata": {
        "id": "j8vOnYnsQdLf",
        "colab": {
          "base_uri": "https://localhost:8080/",
          "height": 52
        },
        "outputId": "7fb41600-1997-49a3-8ade-88ddc8089238"
      },
      "source": [
        "df_compart_bikes['season'].unique()"
      ],
      "execution_count": null,
      "outputs": [
        {
          "output_type": "execute_result",
          "data": {
            "text/plain": [
              "[1.0, NaN, 2.0, 3.0, 4.0]\n",
              "Categories (4, float64): [1.0, 2.0, 3.0, 4.0]"
            ]
          },
          "metadata": {
            "tags": []
          },
          "execution_count": 22
        }
      ]
    },
    {
      "cell_type": "code",
      "metadata": {
        "id": "Z5R3qeeNwSQj"
      },
      "source": [
        "df_compart_bikes['dteday'] = pd.to_datetime(df_compart_bikes.dteday) #convertendo a string data para o tipo de data"
      ],
      "execution_count": null,
      "outputs": []
    },
    {
      "cell_type": "code",
      "metadata": {
        "id": "RQRp1sYpAaYR",
        "colab": {
          "base_uri": "https://localhost:8080/",
          "height": 433
        },
        "outputId": "feb24259-3610-4d5a-c504-fe52d56d5002"
      },
      "source": [
        "df_compart_bikes.info()"
      ],
      "execution_count": null,
      "outputs": [
        {
          "output_type": "stream",
          "text": [
            "<class 'pandas.core.frame.DataFrame'>\n",
            "Int64Index: 15641 entries, 1 to 17378\n",
            "Data columns (total 17 columns):\n",
            " #   Column      Non-Null Count  Dtype         \n",
            "---  ------      --------------  -----         \n",
            " 0   instant     14060 non-null  float64       \n",
            " 1   dteday      15641 non-null  datetime64[ns]\n",
            " 2   season      14061 non-null  category      \n",
            " 3   yr          14076 non-null  float64       \n",
            " 4   mnth        14062 non-null  float64       \n",
            " 5   hr          14068 non-null  float64       \n",
            " 6   holiday     14076 non-null  float64       \n",
            " 7   weekday     14078 non-null  float64       \n",
            " 8   workingday  14097 non-null  float64       \n",
            " 9   weathersit  14078 non-null  float64       \n",
            " 10  temp        14066 non-null  float64       \n",
            " 11  atemp       14076 non-null  float64       \n",
            " 12  hum         14070 non-null  float64       \n",
            " 13  windspeed   14082 non-null  float64       \n",
            " 14  casual      14071 non-null  float64       \n",
            " 15  registered  14090 non-null  float64       \n",
            " 16  cnt         14079 non-null  float64       \n",
            "dtypes: category(1), datetime64[ns](1), float64(15)\n",
            "memory usage: 2.0 MB\n"
          ],
          "name": "stdout"
        }
      ]
    },
    {
      "cell_type": "code",
      "metadata": {
        "id": "LfpP89IKA9Wx",
        "colab": {
          "base_uri": "https://localhost:8080/",
          "height": 35
        },
        "outputId": "63ecdfec-c2eb-4320-96f3-f0f93c1fc6eb"
      },
      "source": [
        "print(\"Maior data existente no dataset {}\".format(df_compart_bikes['dteday'].max())) #encontrando o maior valor de data existente no dataset"
      ],
      "execution_count": null,
      "outputs": [
        {
          "output_type": "stream",
          "text": [
            "Maior data existente no dataset 2012-12-31 00:00:00\n"
          ],
          "name": "stdout"
        }
      ]
    },
    {
      "cell_type": "code",
      "metadata": {
        "id": "iHudS-uqFptq",
        "colab": {
          "base_uri": "https://localhost:8080/",
          "height": 282
        },
        "outputId": "7701ccba-dddb-40dc-b200-b3e4ad5ad531"
      },
      "source": [
        "df_compart_bikes.boxplot(['windspeed']) #boxplot para a velocidade do vento (['windspeed'])"
      ],
      "execution_count": null,
      "outputs": [
        {
          "output_type": "execute_result",
          "data": {
            "text/plain": [
              "<matplotlib.axes._subplots.AxesSubplot at 0x7fd6bae63240>"
            ]
          },
          "metadata": {
            "tags": []
          },
          "execution_count": 26
        },
        {
          "output_type": "display_data",
          "data": {
            "image/png": "[encoded data removed]",
            "text/plain": [
              "<Figure size 432x288 with 1 Axes>"
            ]
          },
          "metadata": {
            "tags": [],
            "needs_background": "light"
          }
        }
      ]
    },
    {
      "cell_type": "code",
      "metadata": {
        "id": "VBQ75K4-BptH"
      },
      "source": [
        "#selecionando as colunas \"season\", \"temp\", \"atemp\", \"hum\", \"windspeed\", \"cnt\"\n",
        "df_compart_bikes_filtrado=df_compart_bikes[[\"season\", \"temp\", \"atemp\", \"hum\", \"windspeed\",\"cnt\"]]"
      ],
      "execution_count": null,
      "outputs": []
    },
    {
      "cell_type": "code",
      "metadata": {
        "id": "BiI-P9EeHXd-",
        "colab": {
          "base_uri": "https://localhost:8080/",
          "height": 596
        },
        "outputId": "255abbd1-64ca-484d-8d2b-573d5cb30d0a"
      },
      "source": [
        "#realizando o plot da matriz de correlação\n",
        "plt.figure(figsize=(16, 10))\n",
        "matriz_de_correlação = df_compart_bikes_filtrado.corr()  #construindo a matriz de correlação\n",
        "sn.heatmap(matriz_de_correlação, annot=True,vmin=-1, vmax=1,center= 0)  #plotando a matriz de correlação com o seaborn\n",
        "plt.show()"
      ],
      "execution_count": null,
      "outputs": [
        {
          "output_type": "display_data",
          "data": {
            "image/png": "[encoded data removed]",
            "text/plain": [
              "<Figure size 1152x720 with 2 Axes>"
            ]
          },
          "metadata": {
            "tags": [],
            "needs_background": "light"
          }
        }
      ]
    },
    {
      "cell_type": "code",
      "metadata": {
        "id": "cLQExm77LoO5",
        "colab": {
          "base_uri": "https://localhost:8080/",
          "height": 188
        },
        "outputId": "66716f74-83cc-4151-a056-d0df2c591198"
      },
      "source": [
        "#substituindo o valor médio para as colunas \"hum\",\"cnt\",\"casual\"\n",
        "df_compart_bikes_regressao=df_compart_bikes[['hum','cnt','casual']] #filtrando os valores necessários (selecionando as variáveis 'hum','cnt','casual' )\n",
        "df_compart_bikes_regressao.fillna(df_compart_bikes_regressao.mean(), inplace=True)  #aplicando a modificação para os valores nulos\n",
        "df_compart_bikes_regressao.isnull().sum()  #avaliando se os valores foram preenchidos"
      ],
      "execution_count": null,
      "outputs": [
        {
          "output_type": "stream",
          "text": [
            "/usr/local/lib/python3.6/dist-packages/pandas/core/series.py:4523: SettingWithCopyWarning: \n",
            "A value is trying to be set on a copy of a slice from a DataFrame\n",
            "\n",
            "See the caveats in the documentation: https://pandas.pydata.org/pandas-docs/stable/user_guide/indexing.html#returning-a-view-versus-a-copy\n",
            "  downcast=downcast,\n"
          ],
          "name": "stderr"
        },
        {
          "output_type": "execute_result",
          "data": {
            "text/plain": [
              "hum       0\n",
              "cnt       0\n",
              "casual    0\n",
              "dtype: int64"
            ]
          },
          "metadata": {
            "tags": []
          },
          "execution_count": 32
        }
      ]
    },
    {
      "cell_type": "code",
      "metadata": {
        "id": "UhhSR2AdLD3x"
      },
      "source": [
        "#selecionando as variáveis para os modelos de regressão \n",
        "entradas_regressao=df_compart_bikes_regressao[['hum','casual']] #variáveis independentes\n",
        "saida_regressao=df_compart_bikes_regressao['cnt'] #variáveis dependentes"
      ],
      "execution_count": null,
      "outputs": []
    },
    {
      "cell_type": "code",
      "metadata": {
        "id": "H3SFskpIKQR6",
        "colab": {
          "base_uri": "https://localhost:8080/",
          "height": 34
        },
        "outputId": "f86b0237-e24c-4c23-fe77-aeb2bab0eb6b"
      },
      "source": [
        "entradas_regressao.shape"
      ],
      "execution_count": null,
      "outputs": [
        {
          "output_type": "execute_result",
          "data": {
            "text/plain": [
              "(15641, 2)"
            ]
          },
          "metadata": {
            "tags": []
          },
          "execution_count": 34
        }
      ]
    },
    {
      "cell_type": "code",
      "metadata": {
        "id": "0ee1FoOKP03W"
      },
      "source": [
        "#importa o modelo de regressão linear \n",
        "from sklearn.linear_model import LinearRegression"
      ],
      "execution_count": null,
      "outputs": []
    },
    {
      "cell_type": "code",
      "metadata": {
        "id": "u0wTxaX6P0-D"
      },
      "source": [
        "#Realiza a construção do modelo de regressão\n",
        "reg= LinearRegression()\n",
        "regressao= reg.fit (entradas_regressao,saida_regressao) # encontra os coeficientes (realiza a regressão)"
      ],
      "execution_count": null,
      "outputs": []
    },
    {
      "cell_type": "code",
      "metadata": {
        "id": "QkFlU57gP1C9"
      },
      "source": [
        "#realiza a previsão\n",
        "previsao=reg.predict(entradas_regressao)"
      ],
      "execution_count": null,
      "outputs": []
    },
    {
      "cell_type": "code",
      "metadata": {
        "id": "1fZ77O-bP1F8"
      },
      "source": [
        "#análise do modelo\n",
        "from sklearn.metrics import r2_score #método para o cálculo do R2 (coeficiente de determinação)"
      ],
      "execution_count": null,
      "outputs": []
    },
    {
      "cell_type": "code",
      "metadata": {
        "id": "GWOT5rBSQ0Wn",
        "colab": {
          "base_uri": "https://localhost:8080/",
          "height": 50
        },
        "outputId": "c43714ed-81cc-4289-d8d4-76654825d2d4"
      },
      "source": [
        "#parâmetros encontrados\n",
        "print('Y = {}X1 + {}X2 + {}'.format(reg.coef_[0],reg.coef_[1],reg.intercept_))\n",
        "\n",
        "R_2 = r2_score(saida_regressao, previsao)  #realiza o cálculo do R2\n",
        "\n",
        "print(\"Coeficiente de Determinação (R2):\", R_2)\n"
      ],
      "execution_count": null,
      "outputs": [
        {
          "output_type": "stream",
          "text": [
            "Y = -99.75012327908327X1 + 2.215121974254656X2 + 173.29337505135578\n",
            "Coeficiente de Determinação (R2): 0.4059859251122173\n"
          ],
          "name": "stdout"
        }
      ]
    },
    {
      "cell_type": "code",
      "metadata": {
        "id": "v5nYQ_gQVTSr"
      },
      "source": [
        "from sklearn.tree import DecisionTreeRegressor  #importando a árvore de decisão como regressor "
      ],
      "execution_count": null,
      "outputs": []
    },
    {
      "cell_type": "code",
      "metadata": {
        "id": "yvElftuYVTai",
        "colab": {
          "base_uri": "https://localhost:8080/",
          "height": 118
        },
        "outputId": "cae591df-9197-461e-fda1-dd6edb8c707d"
      },
      "source": [
        "arvore_regressora=DecisionTreeRegressor() #define o objeto para a árvore de decisão como regressora\n",
        "arvore_regressora.fit(entradas_regressao, saida_regressao) #aplica a regressão"
      ],
      "execution_count": null,
      "outputs": [
        {
          "output_type": "execute_result",
          "data": {
            "text/plain": [
              "DecisionTreeRegressor(ccp_alpha=0.0, criterion='mse', max_depth=None,\n",
              "                      max_features=None, max_leaf_nodes=None,\n",
              "                      min_impurity_decrease=0.0, min_impurity_split=None,\n",
              "                      min_samples_leaf=1, min_samples_split=2,\n",
              "                      min_weight_fraction_leaf=0.0, presort='deprecated',\n",
              "                      random_state=None, splitter='best')"
            ]
          },
          "metadata": {
            "tags": []
          },
          "execution_count": 41
        }
      ]
    },
    {
      "cell_type": "code",
      "metadata": {
        "id": "r3XgD6GAVTgB"
      },
      "source": [
        "#realiza a previsão\n",
        "previsao_arvore=arvore_regressora.predict(entradas_regressao)"
      ],
      "execution_count": null,
      "outputs": []
    },
    {
      "cell_type": "code",
      "metadata": {
        "id": "AxC9QDkFW9W7",
        "colab": {
          "base_uri": "https://localhost:8080/",
          "height": 34
        },
        "outputId": "95ab8418-17ad-4676-8190-2418dea9347b"
      },
      "source": [
        "#parâmetros encontrados\n",
        "R_2 = r2_score(saida_regressao, previsao_arvore)  #realiza o cálculo do R2\n",
        "\n",
        "print(\"Coeficiente de Determinação (R2) para a árvore:\", R_2)\n"
      ],
      "execution_count": null,
      "outputs": [
        {
          "output_type": "stream",
          "text": [
            "Coeficiente de Determinação (R2) para a árvore: 0.7098339715834964\n"
          ],
          "name": "stdout"
        }
      ]
    },
    {
      "cell_type": "code",
      "metadata": {
        "id": "uOWinbLqVTsB",
        "colab": {
          "base_uri": "https://localhost:8080/",
          "height": 34
        },
        "outputId": "8e0d9325-6bd0-486e-f9a7-0c0a8dbe178f"
      },
      "source": [
        "#plotando as decisões tomadas pela árvore de decisão\n",
        "from sklearn import tree #importando a biblioteca para as árvores de decisão\n",
        "import pydotplus #biblioteca utilizada como interface para plotar as decisões da árvore de decisão\n",
        "dot_data = tree.export_graphviz(arvore_regressora, out_file=None)\n",
        "grafico = pydotplus.graph_from_dot_data(dot_data)\n",
        "grafico.write_pdf(\"bikeshare.pdf\")"
      ],
      "execution_count": null,
      "outputs": [
        {
          "output_type": "execute_result",
          "data": {
            "text/plain": [
              "True"
            ]
          },
          "metadata": {
            "tags": []
          },
          "execution_count": 44
        }
      ]
    },
    {
      "cell_type": "code",
      "metadata": {
        "id": "5lrRLs8qyfX7",
        "colab": {
          "base_uri": "https://localhost:8080/",
          "height": 71
        },
        "outputId": "7002be50-e83e-4d50-ef81-ad4af426cf34"
      },
      "source": [
        "#for col in df_compart_bikes.columns:\n",
        "#    df_compart_bikes.loc[df_compart_bikes.sample(frac=0.1).index, col] = pd.np.nan"
      ],
      "execution_count": null,
      "outputs": [
        {
          "output_type": "stream",
          "text": [
            "/usr/local/lib/python3.6/dist-packages/ipykernel_launcher.py:2: FutureWarning: The pandas.np module is deprecated and will be removed from pandas in a future version. Import numpy directly instead\n",
            "  \n"
          ],
          "name": "stderr"
        }
      ]
    },
    {
      "cell_type": "code",
      "metadata": {
        "id": "_RVg1e4aylmU"
      },
      "source": [
        "#df_compart_bikes.to_csv('comp_bikes_mod.csv',index=False)"
      ],
      "execution_count": null,
      "outputs": []
    }
  ]
}